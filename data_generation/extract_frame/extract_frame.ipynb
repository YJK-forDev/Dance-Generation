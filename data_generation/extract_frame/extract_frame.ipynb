{
 "cells": [
  {
   "cell_type": "code",
   "execution_count": null,
   "metadata": {},
   "outputs": [],
   "source": [
    "FPS =  25 # @param {type:'number'}\n",
    "VIDEO_PATH = '/content/data'\n",
    "RES_DIR = '/content/data'\n",
    "FRAMES_DIR = os.path.join(RES_DIR, 'images')\n",
    "!rm -rf $RES_DIR\n",
    "!mkdir $RES_DIR\n",
    "!mkdir $FRAMES_DIR\n",
    "!ffmpeg -i \"$VIDEO_PATH\" -vf fps=2  -qscale:v 2 \"$FRAMES_DIR/%05d.png\""
   ]
  }
 ],
 "metadata": {
  "kernelspec": {
   "display_name": "Python 3.10.8 ('lsma_project')",
   "language": "python",
   "name": "python3"
  },
  "language_info": {
   "name": "python",
   "version": "3.10.8"
  },
  "orig_nbformat": 4,
  "vscode": {
   "interpreter": {
    "hash": "a390f11e07f4066949a70a51d3c50a2c8701d8d5d9d375ba52cd46931f7c3425"
   }
  }
 },
 "nbformat": 4,
 "nbformat_minor": 2
}
