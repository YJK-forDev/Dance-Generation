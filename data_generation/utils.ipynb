{
 "cells": [
  {
   "cell_type": "code",
   "execution_count": 3,
   "metadata": {},
   "outputs": [
    {
     "name": "stdout",
     "output_type": "stream",
     "text": [
      "[-0.18499427  0.24751997  5.8938346 ]\n"
     ]
    }
   ],
   "source": [
    "import pickle\n",
    "with open(\"/home/cvmlserver/Seohyeon/smplpix/data/smplifyx_results/camera_params/00072/000.pkl\",\"rb\") as fr:\n",
    "    data = pickle.load(fr)\n",
    "print(data['camera_transl'])\n",
    "    "
   ]
  },
  {
   "cell_type": "markdown",
   "metadata": {},
   "source": [
    "# Split data into train and validation"
   ]
  },
  {
   "cell_type": "code",
   "execution_count": null,
   "metadata": {},
   "outputs": [],
   "source": [
    "import shutil\n",
    "import os\n",
    "\n",
    "train_ratio = 0.9 #@para\n",
    "smplpix_data_path = '../data/'\n",
    "\n",
    "train_input_dir = os.path.join(smplpix_data_path, 'train', 'input') # rendered mesh\n",
    "train_output_dir = os.path.join(smplpix_data_path, 'train', 'output') # original image \n",
    "val_input_dir = os.path.join(smplpix_data_path, 'validation', 'input')\n",
    "val_output_dir = os.path.join(smplpix_data_path, 'validation', 'output')\n",
    "test_input_dir = os.path.join(smplpix_data_path, 'test', 'input')\n",
    "test_output_dir = os.path.join(smplpix_data_path, 'test', 'output')\n",
    "\n",
    "!mkdir -p $val_input_dir\n",
    "!mkdir -p $val_output_dir\n",
    "\n",
    "input_names = sorted(os.listdir(train_input_dir))\n",
    "output_names = sorted(os.listdir(train_output_dir))\n",
    "\n",
    "i = 0\n",
    "for dir in input_names:\n",
    "    if i % 10 == 0:\n",
    "        shutil.move(os.path.join(train_input_dir, dir), val_input_dir)\n",
    "        shutil.move(os.path.join(train_output_dir, dir + \".png\"), val_output_dir)\n",
    "    i+=1"
   ]
  }
 ],
 "metadata": {
  "kernelspec": {
   "display_name": "Python 3.10.6 ('11775-hw2')",
   "language": "python",
   "name": "python3"
  },
  "language_info": {
   "codemirror_mode": {
    "name": "ipython",
    "version": 3
   },
   "file_extension": ".py",
   "mimetype": "text/x-python",
   "name": "python",
   "nbconvert_exporter": "python",
   "pygments_lexer": "ipython3",
   "version": "3.10.6"
  },
  "orig_nbformat": 4,
  "vscode": {
   "interpreter": {
    "hash": "09f94152c9560a9262e19909104123c27996423b8d9cefbf1cc31600487b030b"
   }
  }
 },
 "nbformat": 4,
 "nbformat_minor": 2
}
